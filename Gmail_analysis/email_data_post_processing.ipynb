{
 "metadata": {
  "language_info": {
   "codemirror_mode": {
    "name": "ipython",
    "version": 3
   },
   "file_extension": ".py",
   "mimetype": "text/x-python",
   "name": "python",
   "nbconvert_exporter": "python",
   "pygments_lexer": "ipython3",
   "version": "3.7.6-final"
  },
  "orig_nbformat": 2,
  "kernelspec": {
   "name": "python3",
   "display_name": "Python 3.7.6 64-bit ('ghosh': virtualenv)",
   "metadata": {
    "interpreter": {
     "hash": "d4196547ee0804ab61aa97915bb197a20a10c5cb25c4c09d1451bef5bfc0f4f7"
    }
   }
  }
 },
 "nbformat": 4,
 "nbformat_minor": 2,
 "cells": [
  {
   "cell_type": "code",
   "execution_count": 287,
   "metadata": {},
   "outputs": [],
   "source": [
    "# import all\n",
    "import pandas as pd\n",
    "import numpy as np"
   ]
  },
  {
   "cell_type": "code",
   "execution_count": null,
   "metadata": {},
   "outputs": [],
   "source": [
    "'''\n",
    "Read the emails for the json and process it for data viz\n",
    "'''"
   ]
  },
  {
   "cell_type": "code",
   "execution_count": 288,
   "metadata": {},
   "outputs": [],
   "source": [
    "email_json = \"C:/Users/ghosh/Google Drive/personal_project/Learning_NLP/Gmail_analysis/all_gmails_output.json\""
   ]
  },
  {
   "cell_type": "code",
   "execution_count": 289,
   "metadata": {},
   "outputs": [],
   "source": [
    "# read the json\n",
    "email_data = pd.read_json(email_json)"
   ]
  },
  {
   "cell_type": "code",
   "execution_count": 292,
   "metadata": {},
   "outputs": [],
   "source": [
    "email_data = email_data[['From', 'To', 'Date', 'Subject']]\n",
    "\n",
    "#email_data.drop_duplicates() ## Error unhashable type: 'list'\n",
    "# duplicating date column for further processing\n",
    "email_data['Date_new'] = email_data['Date']"
   ]
  },
  {
   "cell_type": "code",
   "execution_count": 293,
   "metadata": {},
   "outputs": [
    {
     "output_type": "execute_result",
     "data": {
      "text/plain": [
       "                            From                                     To  \\\n",
       "0           admin@anandrathi.com                   [GHOSHM21@GMAIL.COM]   \n",
       "1               crcedp@rathi.com                   [GHOSHM21@GMAIL.COM]   \n",
       "2          ishasaraiya@rathi.com                [ishasaraiya@rathi.com]   \n",
       "3       care.karnataka@airtel.in                   [GHOSHM21@GMAIL.COM]   \n",
       "4       care.karnataka@airtel.in                   [GHOSHM21@GMAIL.COM]   \n",
       "...                          ...                                    ...   \n",
       "102234          sandipag@anz.com                   [ghoshm21@gmail.com]   \n",
       "102235          sandipag@anz.com                   [ghoshm21@gmail.com]   \n",
       "102236          sandipag@anz.com                   [ghoshm21@gmail.com]   \n",
       "102237          sandipag@anz.com                   [ghoshm21@gmail.com]   \n",
       "102238        ghoshm21@gmail.com  [ghoshm21@gmail.com, ghoshm21@aol.in]   \n",
       "\n",
       "                                   Date  \\\n",
       "0          Fri Sep 14 13:44:44 2007 GMT   \n",
       "1        Mon, 5 Nov 2007 22:25:41 +0530   \n",
       "2        Mon, 5 May 2008 18:51:57 +0530   \n",
       "3       Tue, 15 Feb 2011 16:03:04 +0530   \n",
       "4       Tue, 15 Feb 2011 15:59:35 +0530   \n",
       "...                                 ...   \n",
       "102234   Fri, 2 Mar 2007 20:31:08 +0530   \n",
       "102235   Fri, 2 Mar 2007 20:30:04 +0530   \n",
       "102236   Fri, 2 Mar 2007 20:31:41 +0530   \n",
       "102237  Tue, 20 Mar 2007 14:04:47 +0530   \n",
       "102238   Mon, 5 May 2008 14:51:41 +0530   \n",
       "\n",
       "                                               Subject  \\\n",
       "0                              User Successfully Added   \n",
       "1                                    BSECAPITAL Ledger   \n",
       "2                                 Minimum Requirements   \n",
       "3                                   DSL Welcome Letter   \n",
       "4                                   DSL Welcome Letter   \n",
       "...                                                ...   \n",
       "102234                                                   \n",
       "102235                                          FW: ss   \n",
       "102236                                                   \n",
       "102237  FW: Good ppt on Data warehousing / Data mining   \n",
       "102238                                 undocumented SP   \n",
       "\n",
       "                               Date_new  \n",
       "0          Fri Sep 14 13:44:44 2007 GMT  \n",
       "1        Mon, 5 Nov 2007 22:25:41 +0530  \n",
       "2        Mon, 5 May 2008 18:51:57 +0530  \n",
       "3       Tue, 15 Feb 2011 16:03:04 +0530  \n",
       "4       Tue, 15 Feb 2011 15:59:35 +0530  \n",
       "...                                 ...  \n",
       "102234   Fri, 2 Mar 2007 20:31:08 +0530  \n",
       "102235   Fri, 2 Mar 2007 20:30:04 +0530  \n",
       "102236   Fri, 2 Mar 2007 20:31:41 +0530  \n",
       "102237  Tue, 20 Mar 2007 14:04:47 +0530  \n",
       "102238   Mon, 5 May 2008 14:51:41 +0530  \n",
       "\n",
       "[102239 rows x 5 columns]"
      ],
      "text/html": "<div>\n<style scoped>\n    .dataframe tbody tr th:only-of-type {\n        vertical-align: middle;\n    }\n\n    .dataframe tbody tr th {\n        vertical-align: top;\n    }\n\n    .dataframe thead th {\n        text-align: right;\n    }\n</style>\n<table border=\"1\" class=\"dataframe\">\n  <thead>\n    <tr style=\"text-align: right;\">\n      <th></th>\n      <th>From</th>\n      <th>To</th>\n      <th>Date</th>\n      <th>Subject</th>\n      <th>Date_new</th>\n    </tr>\n  </thead>\n  <tbody>\n    <tr>\n      <th>0</th>\n      <td>admin@anandrathi.com</td>\n      <td>[GHOSHM21@GMAIL.COM]</td>\n      <td>Fri Sep 14 13:44:44 2007 GMT</td>\n      <td>User Successfully Added</td>\n      <td>Fri Sep 14 13:44:44 2007 GMT</td>\n    </tr>\n    <tr>\n      <th>1</th>\n      <td>crcedp@rathi.com</td>\n      <td>[GHOSHM21@GMAIL.COM]</td>\n      <td>Mon, 5 Nov 2007 22:25:41 +0530</td>\n      <td>BSECAPITAL Ledger</td>\n      <td>Mon, 5 Nov 2007 22:25:41 +0530</td>\n    </tr>\n    <tr>\n      <th>2</th>\n      <td>ishasaraiya@rathi.com</td>\n      <td>[ishasaraiya@rathi.com]</td>\n      <td>Mon, 5 May 2008 18:51:57 +0530</td>\n      <td>Minimum Requirements</td>\n      <td>Mon, 5 May 2008 18:51:57 +0530</td>\n    </tr>\n    <tr>\n      <th>3</th>\n      <td>care.karnataka@airtel.in</td>\n      <td>[GHOSHM21@GMAIL.COM]</td>\n      <td>Tue, 15 Feb 2011 16:03:04 +0530</td>\n      <td>DSL Welcome Letter</td>\n      <td>Tue, 15 Feb 2011 16:03:04 +0530</td>\n    </tr>\n    <tr>\n      <th>4</th>\n      <td>care.karnataka@airtel.in</td>\n      <td>[GHOSHM21@GMAIL.COM]</td>\n      <td>Tue, 15 Feb 2011 15:59:35 +0530</td>\n      <td>DSL Welcome Letter</td>\n      <td>Tue, 15 Feb 2011 15:59:35 +0530</td>\n    </tr>\n    <tr>\n      <th>...</th>\n      <td>...</td>\n      <td>...</td>\n      <td>...</td>\n      <td>...</td>\n      <td>...</td>\n    </tr>\n    <tr>\n      <th>102234</th>\n      <td>sandipag@anz.com</td>\n      <td>[ghoshm21@gmail.com]</td>\n      <td>Fri, 2 Mar 2007 20:31:08 +0530</td>\n      <td></td>\n      <td>Fri, 2 Mar 2007 20:31:08 +0530</td>\n    </tr>\n    <tr>\n      <th>102235</th>\n      <td>sandipag@anz.com</td>\n      <td>[ghoshm21@gmail.com]</td>\n      <td>Fri, 2 Mar 2007 20:30:04 +0530</td>\n      <td>FW: ss</td>\n      <td>Fri, 2 Mar 2007 20:30:04 +0530</td>\n    </tr>\n    <tr>\n      <th>102236</th>\n      <td>sandipag@anz.com</td>\n      <td>[ghoshm21@gmail.com]</td>\n      <td>Fri, 2 Mar 2007 20:31:41 +0530</td>\n      <td></td>\n      <td>Fri, 2 Mar 2007 20:31:41 +0530</td>\n    </tr>\n    <tr>\n      <th>102237</th>\n      <td>sandipag@anz.com</td>\n      <td>[ghoshm21@gmail.com]</td>\n      <td>Tue, 20 Mar 2007 14:04:47 +0530</td>\n      <td>FW: Good ppt on Data warehousing / Data mining</td>\n      <td>Tue, 20 Mar 2007 14:04:47 +0530</td>\n    </tr>\n    <tr>\n      <th>102238</th>\n      <td>ghoshm21@gmail.com</td>\n      <td>[ghoshm21@gmail.com, ghoshm21@aol.in]</td>\n      <td>Mon, 5 May 2008 14:51:41 +0530</td>\n      <td>undocumented SP</td>\n      <td>Mon, 5 May 2008 14:51:41 +0530</td>\n    </tr>\n  </tbody>\n</table>\n<p>102239 rows × 5 columns</p>\n</div>"
     },
     "metadata": {},
     "execution_count": 293
    }
   ],
   "source": [
    "email_data"
   ]
  },
  {
   "cell_type": "code",
   "execution_count": 294,
   "metadata": {},
   "outputs": [
    {
     "output_type": "execute_result",
     "data": {
      "text/plain": [
       "                            From                                     To  \\\n",
       "0           admin@anandrathi.com                   [GHOSHM21@GMAIL.COM]   \n",
       "1               crcedp@rathi.com                   [GHOSHM21@GMAIL.COM]   \n",
       "2          ishasaraiya@rathi.com                [ishasaraiya@rathi.com]   \n",
       "3       care.karnataka@airtel.in                   [GHOSHM21@GMAIL.COM]   \n",
       "4       care.karnataka@airtel.in                   [GHOSHM21@GMAIL.COM]   \n",
       "...                          ...                                    ...   \n",
       "102234          sandipag@anz.com                   [ghoshm21@gmail.com]   \n",
       "102235          sandipag@anz.com                   [ghoshm21@gmail.com]   \n",
       "102236          sandipag@anz.com                   [ghoshm21@gmail.com]   \n",
       "102237          sandipag@anz.com                   [ghoshm21@gmail.com]   \n",
       "102238        ghoshm21@gmail.com  [ghoshm21@gmail.com, ghoshm21@aol.in]   \n",
       "\n",
       "                                               Subject  \\\n",
       "0                              User Successfully Added   \n",
       "1                                    BSECAPITAL Ledger   \n",
       "2                                 Minimum Requirements   \n",
       "3                                   DSL Welcome Letter   \n",
       "4                                   DSL Welcome Letter   \n",
       "...                                                ...   \n",
       "102234                                                   \n",
       "102235                                          FW: ss   \n",
       "102236                                                   \n",
       "102237  FW: Good ppt on Data warehousing / Data mining   \n",
       "102238                                 undocumented SP   \n",
       "\n",
       "                    datetime_ist   only_Date only_time  \n",
       "0      2007-09-14 19:14:44+05:30  2007-09-14  19:14:44  \n",
       "1      2007-11-05 22:25:41+05:30  2007-11-05  22:25:41  \n",
       "2      2008-05-05 18:51:57+05:30  2008-05-05  18:51:57  \n",
       "3      2011-02-15 16:03:04+05:30  2011-02-15  16:03:04  \n",
       "4      2011-02-15 15:59:35+05:30  2011-02-15  15:59:35  \n",
       "...                          ...         ...       ...  \n",
       "102234 2007-03-02 20:31:08+05:30  2007-03-02  20:31:08  \n",
       "102235 2007-03-02 20:30:04+05:30  2007-03-02  20:30:04  \n",
       "102236 2007-03-02 20:31:41+05:30  2007-03-02  20:31:41  \n",
       "102237 2007-03-20 14:04:47+05:30  2007-03-20  14:04:47  \n",
       "102238 2008-05-05 14:51:41+05:30  2008-05-05  14:51:41  \n",
       "\n",
       "[102239 rows x 6 columns]"
      ],
      "text/html": "<div>\n<style scoped>\n    .dataframe tbody tr th:only-of-type {\n        vertical-align: middle;\n    }\n\n    .dataframe tbody tr th {\n        vertical-align: top;\n    }\n\n    .dataframe thead th {\n        text-align: right;\n    }\n</style>\n<table border=\"1\" class=\"dataframe\">\n  <thead>\n    <tr style=\"text-align: right;\">\n      <th></th>\n      <th>From</th>\n      <th>To</th>\n      <th>Subject</th>\n      <th>datetime_ist</th>\n      <th>only_Date</th>\n      <th>only_time</th>\n    </tr>\n  </thead>\n  <tbody>\n    <tr>\n      <th>0</th>\n      <td>admin@anandrathi.com</td>\n      <td>[GHOSHM21@GMAIL.COM]</td>\n      <td>User Successfully Added</td>\n      <td>2007-09-14 19:14:44+05:30</td>\n      <td>2007-09-14</td>\n      <td>19:14:44</td>\n    </tr>\n    <tr>\n      <th>1</th>\n      <td>crcedp@rathi.com</td>\n      <td>[GHOSHM21@GMAIL.COM]</td>\n      <td>BSECAPITAL Ledger</td>\n      <td>2007-11-05 22:25:41+05:30</td>\n      <td>2007-11-05</td>\n      <td>22:25:41</td>\n    </tr>\n    <tr>\n      <th>2</th>\n      <td>ishasaraiya@rathi.com</td>\n      <td>[ishasaraiya@rathi.com]</td>\n      <td>Minimum Requirements</td>\n      <td>2008-05-05 18:51:57+05:30</td>\n      <td>2008-05-05</td>\n      <td>18:51:57</td>\n    </tr>\n    <tr>\n      <th>3</th>\n      <td>care.karnataka@airtel.in</td>\n      <td>[GHOSHM21@GMAIL.COM]</td>\n      <td>DSL Welcome Letter</td>\n      <td>2011-02-15 16:03:04+05:30</td>\n      <td>2011-02-15</td>\n      <td>16:03:04</td>\n    </tr>\n    <tr>\n      <th>4</th>\n      <td>care.karnataka@airtel.in</td>\n      <td>[GHOSHM21@GMAIL.COM]</td>\n      <td>DSL Welcome Letter</td>\n      <td>2011-02-15 15:59:35+05:30</td>\n      <td>2011-02-15</td>\n      <td>15:59:35</td>\n    </tr>\n    <tr>\n      <th>...</th>\n      <td>...</td>\n      <td>...</td>\n      <td>...</td>\n      <td>...</td>\n      <td>...</td>\n      <td>...</td>\n    </tr>\n    <tr>\n      <th>102234</th>\n      <td>sandipag@anz.com</td>\n      <td>[ghoshm21@gmail.com]</td>\n      <td></td>\n      <td>2007-03-02 20:31:08+05:30</td>\n      <td>2007-03-02</td>\n      <td>20:31:08</td>\n    </tr>\n    <tr>\n      <th>102235</th>\n      <td>sandipag@anz.com</td>\n      <td>[ghoshm21@gmail.com]</td>\n      <td>FW: ss</td>\n      <td>2007-03-02 20:30:04+05:30</td>\n      <td>2007-03-02</td>\n      <td>20:30:04</td>\n    </tr>\n    <tr>\n      <th>102236</th>\n      <td>sandipag@anz.com</td>\n      <td>[ghoshm21@gmail.com]</td>\n      <td></td>\n      <td>2007-03-02 20:31:41+05:30</td>\n      <td>2007-03-02</td>\n      <td>20:31:41</td>\n    </tr>\n    <tr>\n      <th>102237</th>\n      <td>sandipag@anz.com</td>\n      <td>[ghoshm21@gmail.com]</td>\n      <td>FW: Good ppt on Data warehousing / Data mining</td>\n      <td>2007-03-20 14:04:47+05:30</td>\n      <td>2007-03-20</td>\n      <td>14:04:47</td>\n    </tr>\n    <tr>\n      <th>102238</th>\n      <td>ghoshm21@gmail.com</td>\n      <td>[ghoshm21@gmail.com, ghoshm21@aol.in]</td>\n      <td>undocumented SP</td>\n      <td>2008-05-05 14:51:41+05:30</td>\n      <td>2008-05-05</td>\n      <td>14:51:41</td>\n    </tr>\n  </tbody>\n</table>\n<p>102239 rows × 6 columns</p>\n</div>"
     },
     "metadata": {},
     "execution_count": 294
    }
   ],
   "source": [
    "# clean and conver all date columns to proper IST date column then get date and time part\n",
    "import re\n",
    "# Thu,  1 Nov 2007 17:24:14 -0300 (GMT+3)\n",
    "# remove the extra GMT and o'clock GMT. These encounter error while using in pandas date\n",
    "# these are not valid date time in pandas\n",
    "email_data.Date_new = email_data.Date_new.str.replace(r'(\\(GMT.*\\))', '', regex = True)\n",
    "email_data.Date_new = email_data.Date_new.str.replace(r\"(o'clock GMT.*)\", \"GMT\", regex = True)\n",
    "# convert to utc and if the format do not match then keep it null\n",
    "email_data['Datetime_utc'] = pd.to_datetime(email_data.Date_new, utc=True, errors='coerce')\n",
    "# convert to IST and get date and time\n",
    "email_data['datetime_ist'] = email_data.Datetime_utc.dt.tz_convert('Asia/Kolkata')\n",
    "email_data['only_Date'] = email_data['datetime_ist'].dt.strftime('%Y-%m-%d')\n",
    "email_data['only_time'] = email_data['datetime_ist'].dt.strftime('%H:%M:%S')\n",
    "# drop columns\n",
    "email_data = email_data.drop(['Date', 'Date_new', 'Datetime_utc'], axis=1)\n",
    "email_data"
   ]
  },
  {
   "cell_type": "code",
   "execution_count": 295,
   "metadata": {},
   "outputs": [
    {
     "output_type": "execute_result",
     "data": {
      "text/plain": [
       "                            From                                     To  \\\n",
       "0           admin@anandrathi.com                   [GHOSHM21@GMAIL.COM]   \n",
       "1               crcedp@rathi.com                   [GHOSHM21@GMAIL.COM]   \n",
       "2          ishasaraiya@rathi.com                [ishasaraiya@rathi.com]   \n",
       "3       care.karnataka@airtel.in                   [GHOSHM21@GMAIL.COM]   \n",
       "4       care.karnataka@airtel.in                   [GHOSHM21@GMAIL.COM]   \n",
       "...                          ...                                    ...   \n",
       "102234          sandipag@anz.com                   [ghoshm21@gmail.com]   \n",
       "102235          sandipag@anz.com                   [ghoshm21@gmail.com]   \n",
       "102236          sandipag@anz.com                   [ghoshm21@gmail.com]   \n",
       "102237          sandipag@anz.com                   [ghoshm21@gmail.com]   \n",
       "102238        ghoshm21@gmail.com  [ghoshm21@gmail.com, ghoshm21@aol.in]   \n",
       "\n",
       "                                               Subject  \\\n",
       "0                              User Successfully Added   \n",
       "1                                    BSECAPITAL Ledger   \n",
       "2                                 Minimum Requirements   \n",
       "3                                   DSL Welcome Letter   \n",
       "4                                   DSL Welcome Letter   \n",
       "...                                                ...   \n",
       "102234                                                   \n",
       "102235                                          FW: ss   \n",
       "102236                                                   \n",
       "102237  FW: Good ppt on Data warehousing / Data mining   \n",
       "102238                                 undocumented SP   \n",
       "\n",
       "                    datetime_ist   only_Date only_time          domain  \n",
       "0      2007-09-14 19:14:44+05:30  2007-09-14  19:14:44  anandrathi.com  \n",
       "1      2007-11-05 22:25:41+05:30  2007-11-05  22:25:41       rathi.com  \n",
       "2      2008-05-05 18:51:57+05:30  2008-05-05  18:51:57       rathi.com  \n",
       "3      2011-02-15 16:03:04+05:30  2011-02-15  16:03:04       airtel.in  \n",
       "4      2011-02-15 15:59:35+05:30  2011-02-15  15:59:35       airtel.in  \n",
       "...                          ...         ...       ...             ...  \n",
       "102234 2007-03-02 20:31:08+05:30  2007-03-02  20:31:08         anz.com  \n",
       "102235 2007-03-02 20:30:04+05:30  2007-03-02  20:30:04         anz.com  \n",
       "102236 2007-03-02 20:31:41+05:30  2007-03-02  20:31:41         anz.com  \n",
       "102237 2007-03-20 14:04:47+05:30  2007-03-20  14:04:47         anz.com  \n",
       "102238 2008-05-05 14:51:41+05:30  2008-05-05  14:51:41       gmail.com  \n",
       "\n",
       "[102239 rows x 7 columns]"
      ],
      "text/html": "<div>\n<style scoped>\n    .dataframe tbody tr th:only-of-type {\n        vertical-align: middle;\n    }\n\n    .dataframe tbody tr th {\n        vertical-align: top;\n    }\n\n    .dataframe thead th {\n        text-align: right;\n    }\n</style>\n<table border=\"1\" class=\"dataframe\">\n  <thead>\n    <tr style=\"text-align: right;\">\n      <th></th>\n      <th>From</th>\n      <th>To</th>\n      <th>Subject</th>\n      <th>datetime_ist</th>\n      <th>only_Date</th>\n      <th>only_time</th>\n      <th>domain</th>\n    </tr>\n  </thead>\n  <tbody>\n    <tr>\n      <th>0</th>\n      <td>admin@anandrathi.com</td>\n      <td>[GHOSHM21@GMAIL.COM]</td>\n      <td>User Successfully Added</td>\n      <td>2007-09-14 19:14:44+05:30</td>\n      <td>2007-09-14</td>\n      <td>19:14:44</td>\n      <td>anandrathi.com</td>\n    </tr>\n    <tr>\n      <th>1</th>\n      <td>crcedp@rathi.com</td>\n      <td>[GHOSHM21@GMAIL.COM]</td>\n      <td>BSECAPITAL Ledger</td>\n      <td>2007-11-05 22:25:41+05:30</td>\n      <td>2007-11-05</td>\n      <td>22:25:41</td>\n      <td>rathi.com</td>\n    </tr>\n    <tr>\n      <th>2</th>\n      <td>ishasaraiya@rathi.com</td>\n      <td>[ishasaraiya@rathi.com]</td>\n      <td>Minimum Requirements</td>\n      <td>2008-05-05 18:51:57+05:30</td>\n      <td>2008-05-05</td>\n      <td>18:51:57</td>\n      <td>rathi.com</td>\n    </tr>\n    <tr>\n      <th>3</th>\n      <td>care.karnataka@airtel.in</td>\n      <td>[GHOSHM21@GMAIL.COM]</td>\n      <td>DSL Welcome Letter</td>\n      <td>2011-02-15 16:03:04+05:30</td>\n      <td>2011-02-15</td>\n      <td>16:03:04</td>\n      <td>airtel.in</td>\n    </tr>\n    <tr>\n      <th>4</th>\n      <td>care.karnataka@airtel.in</td>\n      <td>[GHOSHM21@GMAIL.COM]</td>\n      <td>DSL Welcome Letter</td>\n      <td>2011-02-15 15:59:35+05:30</td>\n      <td>2011-02-15</td>\n      <td>15:59:35</td>\n      <td>airtel.in</td>\n    </tr>\n    <tr>\n      <th>...</th>\n      <td>...</td>\n      <td>...</td>\n      <td>...</td>\n      <td>...</td>\n      <td>...</td>\n      <td>...</td>\n      <td>...</td>\n    </tr>\n    <tr>\n      <th>102234</th>\n      <td>sandipag@anz.com</td>\n      <td>[ghoshm21@gmail.com]</td>\n      <td></td>\n      <td>2007-03-02 20:31:08+05:30</td>\n      <td>2007-03-02</td>\n      <td>20:31:08</td>\n      <td>anz.com</td>\n    </tr>\n    <tr>\n      <th>102235</th>\n      <td>sandipag@anz.com</td>\n      <td>[ghoshm21@gmail.com]</td>\n      <td>FW: ss</td>\n      <td>2007-03-02 20:30:04+05:30</td>\n      <td>2007-03-02</td>\n      <td>20:30:04</td>\n      <td>anz.com</td>\n    </tr>\n    <tr>\n      <th>102236</th>\n      <td>sandipag@anz.com</td>\n      <td>[ghoshm21@gmail.com]</td>\n      <td></td>\n      <td>2007-03-02 20:31:41+05:30</td>\n      <td>2007-03-02</td>\n      <td>20:31:41</td>\n      <td>anz.com</td>\n    </tr>\n    <tr>\n      <th>102237</th>\n      <td>sandipag@anz.com</td>\n      <td>[ghoshm21@gmail.com]</td>\n      <td>FW: Good ppt on Data warehousing / Data mining</td>\n      <td>2007-03-20 14:04:47+05:30</td>\n      <td>2007-03-20</td>\n      <td>14:04:47</td>\n      <td>anz.com</td>\n    </tr>\n    <tr>\n      <th>102238</th>\n      <td>ghoshm21@gmail.com</td>\n      <td>[ghoshm21@gmail.com, ghoshm21@aol.in]</td>\n      <td>undocumented SP</td>\n      <td>2008-05-05 14:51:41+05:30</td>\n      <td>2008-05-05</td>\n      <td>14:51:41</td>\n      <td>gmail.com</td>\n    </tr>\n  </tbody>\n</table>\n<p>102239 rows × 7 columns</p>\n</div>"
     },
     "metadata": {},
     "execution_count": 295
    }
   ],
   "source": [
    "# split the From part to domain name \n",
    "# email_data[['domain']] = email_data.From.apply(lambda x: pd.Series(str(x).split(\"@\")[0])) # error if no @ present\n",
    "# this is better solution, as this do not produce error if @ does not present\n",
    "email_data['domain'] = email_data['From'].str.split('@').str[-1]\n",
    "email_data\n"
   ]
  },
  {
   "cell_type": "code",
   "execution_count": 312,
   "metadata": {},
   "outputs": [],
   "source": [
    "# get all unique domain name for last 3 years\n",
    "# i will manually flag all the safe domains. like amazon, flipkart etc.\n",
    "domain_names = pd.DataFrame(email_data[(email_data.only_Date >= '2018-01-01')].domain.unique(), columns=['domain_names'])\n",
    "domain_names.to_csv('E:\\email_data_domain_names.xlsx')"
   ]
  },
  {
   "cell_type": "code",
   "execution_count": 321,
   "metadata": {},
   "outputs": [
    {
     "output_type": "execute_result",
     "data": {
      "text/plain": [
       "     index         domain_names required\n",
       "0        0         Emeritus.org        y\n",
       "1        1     greatlearning.in        y\n",
       "2        2              payu.in        y\n",
       "3        3          nobroker.in        y\n",
       "4        4  m.mail.coursera.org        y\n",
       "..     ...                  ...      ...\n",
       "705    705  crm.homethycare.com        n\n",
       "706    706       www.luxoft.com        n\n",
       "707    707             nike.com        y\n",
       "708    708     talent.icims.com        y\n",
       "709    709           cc.aol.com        y\n",
       "\n",
       "[710 rows x 3 columns]"
      ],
      "text/html": "<div>\n<style scoped>\n    .dataframe tbody tr th:only-of-type {\n        vertical-align: middle;\n    }\n\n    .dataframe tbody tr th {\n        vertical-align: top;\n    }\n\n    .dataframe thead th {\n        text-align: right;\n    }\n</style>\n<table border=\"1\" class=\"dataframe\">\n  <thead>\n    <tr style=\"text-align: right;\">\n      <th></th>\n      <th>index</th>\n      <th>domain_names</th>\n      <th>required</th>\n    </tr>\n  </thead>\n  <tbody>\n    <tr>\n      <th>0</th>\n      <td>0</td>\n      <td>Emeritus.org</td>\n      <td>y</td>\n    </tr>\n    <tr>\n      <th>1</th>\n      <td>1</td>\n      <td>greatlearning.in</td>\n      <td>y</td>\n    </tr>\n    <tr>\n      <th>2</th>\n      <td>2</td>\n      <td>payu.in</td>\n      <td>y</td>\n    </tr>\n    <tr>\n      <th>3</th>\n      <td>3</td>\n      <td>nobroker.in</td>\n      <td>y</td>\n    </tr>\n    <tr>\n      <th>4</th>\n      <td>4</td>\n      <td>m.mail.coursera.org</td>\n      <td>y</td>\n    </tr>\n    <tr>\n      <th>...</th>\n      <td>...</td>\n      <td>...</td>\n      <td>...</td>\n    </tr>\n    <tr>\n      <th>705</th>\n      <td>705</td>\n      <td>crm.homethycare.com</td>\n      <td>n</td>\n    </tr>\n    <tr>\n      <th>706</th>\n      <td>706</td>\n      <td>www.luxoft.com</td>\n      <td>n</td>\n    </tr>\n    <tr>\n      <th>707</th>\n      <td>707</td>\n      <td>nike.com</td>\n      <td>y</td>\n    </tr>\n    <tr>\n      <th>708</th>\n      <td>708</td>\n      <td>talent.icims.com</td>\n      <td>y</td>\n    </tr>\n    <tr>\n      <th>709</th>\n      <td>709</td>\n      <td>cc.aol.com</td>\n      <td>y</td>\n    </tr>\n  </tbody>\n</table>\n<p>710 rows × 3 columns</p>\n</div>"
     },
     "metadata": {},
     "execution_count": 321
    }
   ],
   "source": [
    "# load the domains filtered data after manually flaged them and fill NaN with n\n",
    "domain_category = pd.read_excel('E:\\email_data_domain_names.xlsx')\n",
    "domain_category.fillna('n', inplace=True)\n",
    "domain_category"
   ]
  },
  {
   "cell_type": "code",
   "execution_count": 327,
   "metadata": {},
   "outputs": [],
   "source": [
    "# join both data on domain names\n",
    "final_df = pd.merge(email_data, domain_category[['domain_names','required']], how='left', left_on='domain', right_on='domain_names').drop(['domain_names'], axis=1)\n",
    "final_df.fillna('na', inplace=True)\n",
    "# convert to csv, for data viz\n",
    "final_df.to_csv('E:\\email_data_processes.csv')"
   ]
  },
  {
   "cell_type": "code",
   "execution_count": 331,
   "metadata": {},
   "outputs": [
    {
     "output_type": "execute_result",
     "data": {
      "text/plain": [
       "                                     From                    To  \\\n",
       "10                gwen.scott@Emeritus.org  [ghoshm21@gmail.com]   \n",
       "14527           noreply@way2smsinvite.com  [ghoshm21@gmail.com]   \n",
       "14528                 alert@icicibank.com  [ghoshm21@gmail.com]   \n",
       "14529             bookings@pvrcinemas.com  [ghoshm21@gmail.com]   \n",
       "14530            newsletters@hdtracks.com  [ghoshm21@gmail.com]   \n",
       "...                                   ...                   ...   \n",
       "101579             intimations@cpc.gov.in  [ghoshm21@gmail.com]   \n",
       "101580  reservations@customer.goindigo.in  [ghoshm21@gmail.com]   \n",
       "101581                     hi@code.energy  [ghoshm21@gmail.com]   \n",
       "101582           6EGSTInvoice@goindigo.in  [ghoshm21@gmail.com]   \n",
       "101583                orders@onsite.co.in  [ghoshm21@gmail.com]   \n",
       "\n",
       "                                                  Subject  \\\n",
       "10      Practical Machine Learning course - UC Berkele...   \n",
       "14527         Reliance Jio GigaFiber Previewoffer details   \n",
       "14528    Transaction alert for your ICICI Bank debit card   \n",
       "14529      Wishing You a Happy New Year from PVR Cinemas!   \n",
       "14530                                     Happy New Year!   \n",
       "...                                                   ...   \n",
       "101579  Intimation U/S 143(1) for PAN BIPxxxxx1M  AY:2...   \n",
       "101580                     Your IndiGo Itinerary - CNLS6E   \n",
       "101581             Your Code Energy order is now complete   \n",
       "101582                      TaxInvoice - WB1192011AX10874   \n",
       "101583  Your OnsiteGo Certificate of Protection for Sm...   \n",
       "\n",
       "                     datetime_ist   only_Date only_time                domain  \\\n",
       "10      2019-06-25 17:55:32+05:30  2019-06-25  17:55:32          Emeritus.org   \n",
       "14527   2019-01-01 10:08:31+05:30  2019-01-01  10:08:31     way2smsinvite.com   \n",
       "14528   2019-01-01 10:30:41+05:30  2019-01-01  10:30:41         icicibank.com   \n",
       "14529   2019-01-01 10:46:14+05:30  2019-01-01  10:46:14        pvrcinemas.com   \n",
       "14530   2019-01-01 10:30:31+05:30  2019-01-01  10:30:31          hdtracks.com   \n",
       "...                           ...         ...       ...                   ...   \n",
       "101579  2019-09-20 08:34:25+05:30  2019-09-20  08:34:25            cpc.gov.in   \n",
       "101580  2019-10-27 13:50:55+05:30  2019-10-27  13:50:55  customer.goindigo.in   \n",
       "101581  2019-11-21 08:42:03+05:30  2019-11-21  08:42:03           code.energy   \n",
       "101582  2019-11-24 02:58:17+05:30  2019-11-24  02:58:17           goindigo.in   \n",
       "101583  2019-11-28 17:43:37+05:30  2019-11-28  17:43:37          onsite.co.in   \n",
       "\n",
       "       required  \n",
       "10            y  \n",
       "14527         n  \n",
       "14528         y  \n",
       "14529         n  \n",
       "14530         y  \n",
       "...         ...  \n",
       "101579        n  \n",
       "101580        y  \n",
       "101581        n  \n",
       "101582        y  \n",
       "101583        n  \n",
       "\n",
       "[26150 rows x 8 columns]"
      ],
      "text/html": "<div>\n<style scoped>\n    .dataframe tbody tr th:only-of-type {\n        vertical-align: middle;\n    }\n\n    .dataframe tbody tr th {\n        vertical-align: top;\n    }\n\n    .dataframe thead th {\n        text-align: right;\n    }\n</style>\n<table border=\"1\" class=\"dataframe\">\n  <thead>\n    <tr style=\"text-align: right;\">\n      <th></th>\n      <th>From</th>\n      <th>To</th>\n      <th>Subject</th>\n      <th>datetime_ist</th>\n      <th>only_Date</th>\n      <th>only_time</th>\n      <th>domain</th>\n      <th>required</th>\n    </tr>\n  </thead>\n  <tbody>\n    <tr>\n      <th>10</th>\n      <td>gwen.scott@Emeritus.org</td>\n      <td>[ghoshm21@gmail.com]</td>\n      <td>Practical Machine Learning course - UC Berkele...</td>\n      <td>2019-06-25 17:55:32+05:30</td>\n      <td>2019-06-25</td>\n      <td>17:55:32</td>\n      <td>Emeritus.org</td>\n      <td>y</td>\n    </tr>\n    <tr>\n      <th>14527</th>\n      <td>noreply@way2smsinvite.com</td>\n      <td>[ghoshm21@gmail.com]</td>\n      <td>Reliance Jio GigaFiber Previewoffer details</td>\n      <td>2019-01-01 10:08:31+05:30</td>\n      <td>2019-01-01</td>\n      <td>10:08:31</td>\n      <td>way2smsinvite.com</td>\n      <td>n</td>\n    </tr>\n    <tr>\n      <th>14528</th>\n      <td>alert@icicibank.com</td>\n      <td>[ghoshm21@gmail.com]</td>\n      <td>Transaction alert for your ICICI Bank debit card</td>\n      <td>2019-01-01 10:30:41+05:30</td>\n      <td>2019-01-01</td>\n      <td>10:30:41</td>\n      <td>icicibank.com</td>\n      <td>y</td>\n    </tr>\n    <tr>\n      <th>14529</th>\n      <td>bookings@pvrcinemas.com</td>\n      <td>[ghoshm21@gmail.com]</td>\n      <td>Wishing You a Happy New Year from PVR Cinemas!</td>\n      <td>2019-01-01 10:46:14+05:30</td>\n      <td>2019-01-01</td>\n      <td>10:46:14</td>\n      <td>pvrcinemas.com</td>\n      <td>n</td>\n    </tr>\n    <tr>\n      <th>14530</th>\n      <td>newsletters@hdtracks.com</td>\n      <td>[ghoshm21@gmail.com]</td>\n      <td>Happy New Year!</td>\n      <td>2019-01-01 10:30:31+05:30</td>\n      <td>2019-01-01</td>\n      <td>10:30:31</td>\n      <td>hdtracks.com</td>\n      <td>y</td>\n    </tr>\n    <tr>\n      <th>...</th>\n      <td>...</td>\n      <td>...</td>\n      <td>...</td>\n      <td>...</td>\n      <td>...</td>\n      <td>...</td>\n      <td>...</td>\n      <td>...</td>\n    </tr>\n    <tr>\n      <th>101579</th>\n      <td>intimations@cpc.gov.in</td>\n      <td>[ghoshm21@gmail.com]</td>\n      <td>Intimation U/S 143(1) for PAN BIPxxxxx1M  AY:2...</td>\n      <td>2019-09-20 08:34:25+05:30</td>\n      <td>2019-09-20</td>\n      <td>08:34:25</td>\n      <td>cpc.gov.in</td>\n      <td>n</td>\n    </tr>\n    <tr>\n      <th>101580</th>\n      <td>reservations@customer.goindigo.in</td>\n      <td>[ghoshm21@gmail.com]</td>\n      <td>Your IndiGo Itinerary - CNLS6E</td>\n      <td>2019-10-27 13:50:55+05:30</td>\n      <td>2019-10-27</td>\n      <td>13:50:55</td>\n      <td>customer.goindigo.in</td>\n      <td>y</td>\n    </tr>\n    <tr>\n      <th>101581</th>\n      <td>hi@code.energy</td>\n      <td>[ghoshm21@gmail.com]</td>\n      <td>Your Code Energy order is now complete</td>\n      <td>2019-11-21 08:42:03+05:30</td>\n      <td>2019-11-21</td>\n      <td>08:42:03</td>\n      <td>code.energy</td>\n      <td>n</td>\n    </tr>\n    <tr>\n      <th>101582</th>\n      <td>6EGSTInvoice@goindigo.in</td>\n      <td>[ghoshm21@gmail.com]</td>\n      <td>TaxInvoice - WB1192011AX10874</td>\n      <td>2019-11-24 02:58:17+05:30</td>\n      <td>2019-11-24</td>\n      <td>02:58:17</td>\n      <td>goindigo.in</td>\n      <td>y</td>\n    </tr>\n    <tr>\n      <th>101583</th>\n      <td>orders@onsite.co.in</td>\n      <td>[ghoshm21@gmail.com]</td>\n      <td>Your OnsiteGo Certificate of Protection for Sm...</td>\n      <td>2019-11-28 17:43:37+05:30</td>\n      <td>2019-11-28</td>\n      <td>17:43:37</td>\n      <td>onsite.co.in</td>\n      <td>n</td>\n    </tr>\n  </tbody>\n</table>\n<p>26150 rows × 8 columns</p>\n</div>"
     },
     "metadata": {},
     "execution_count": 331
    }
   ],
   "source": [
    "# count of email by year\n",
    "pd.DataFrame(final_df[(final_df.only_Date >= '2019-01-01') & (final_df.only_Date <= '2019-12-31')])\n",
    "\n"
   ]
  },
  {
   "cell_type": "code",
   "execution_count": 270,
   "metadata": {},
   "outputs": [
    {
     "output_type": "execute_result",
     "data": {
      "text/plain": [
       "From            8\n",
       "To              8\n",
       "Subject         8\n",
       "datetime_ist    8\n",
       "only_Date       8\n",
       "only_time       8\n",
       "domain          8\n",
       "dtype: int64"
      ]
     },
     "metadata": {},
     "execution_count": 270
    }
   ],
   "source": [
    "email_data[(email_data.From.str.contains(\"@\")==False)].count()"
   ]
  },
  {
   "cell_type": "code",
   "execution_count": 204,
   "metadata": {},
   "outputs": [],
   "source": [
    "email_data.Date = email_data.Date.str.replace(r'(\\(GMT.*\\))', '', regex = True)\n",
    "email_data.Date = email_data.Date.str.replace(r\" (o'clock GMT.*)\", \"\", regex = True)"
   ]
  },
  {
   "cell_type": "code",
   "execution_count": 226,
   "metadata": {},
   "outputs": [
    {
     "output_type": "execute_result",
     "data": {
      "text/plain": [
       "                               From                    To  \\\n",
       "5      CitiAlert.India@citicorp.com  [ghoshm21@gmail.com]   \n",
       "3424   CitiAlert.India@citicorp.com  [ghoshm21@gmail.com]   \n",
       "46156  CitiAlert.India@citicorp.com  [ghoshm21@gmail.com]   \n",
       "92447  CitiAlert.India@citicorp.com  [ghoshm21@gmail.com]   \n",
       "\n",
       "                                              Date  \\\n",
       "5      Sun, 13 Mar 2011 08:10:24 +0530 (GMT+05:30)   \n",
       "3424   Sun, 13 Mar 2011 08:10:24 +0530 (GMT+05:30)   \n",
       "46156  Sun, 13 Mar 2011 08:10:24 +0530 (GMT+05:30)   \n",
       "92447  Sun, 13 Mar 2011 08:10:24 +0530 (GMT+05:30)   \n",
       "\n",
       "                              Subject                          Date_new  \\\n",
       "5      CITIBANK BILL PAY REGISTRATION  Sun, 13 Mar 2011 08:10:24 +0530    \n",
       "3424   CITIBANK BILL PAY REGISTRATION  Sun, 13 Mar 2011 08:10:24 +0530    \n",
       "46156  CITIBANK BILL PAY REGISTRATION  Sun, 13 Mar 2011 08:10:24 +0530    \n",
       "92447  CITIBANK BILL PAY REGISTRATION  Sun, 13 Mar 2011 08:10:24 +0530    \n",
       "\n",
       "                   Datetime_utc              datetime_ist   only_Date  \\\n",
       "5     2011-03-13 02:40:24+00:00 2011-03-13 08:10:24+05:30  2011-03-13   \n",
       "3424  2011-03-13 02:40:24+00:00 2011-03-13 08:10:24+05:30  2011-03-13   \n",
       "46156 2011-03-13 02:40:24+00:00 2011-03-13 08:10:24+05:30  2011-03-13   \n",
       "92447 2011-03-13 02:40:24+00:00 2011-03-13 08:10:24+05:30  2011-03-13   \n",
       "\n",
       "      only_time  \n",
       "5      08:10:24  \n",
       "3424   08:10:24  \n",
       "46156  08:10:24  \n",
       "92447  08:10:24  "
      ],
      "text/html": "<div>\n<style scoped>\n    .dataframe tbody tr th:only-of-type {\n        vertical-align: middle;\n    }\n\n    .dataframe tbody tr th {\n        vertical-align: top;\n    }\n\n    .dataframe thead th {\n        text-align: right;\n    }\n</style>\n<table border=\"1\" class=\"dataframe\">\n  <thead>\n    <tr style=\"text-align: right;\">\n      <th></th>\n      <th>From</th>\n      <th>To</th>\n      <th>Date</th>\n      <th>Subject</th>\n      <th>Date_new</th>\n      <th>Datetime_utc</th>\n      <th>datetime_ist</th>\n      <th>only_Date</th>\n      <th>only_time</th>\n    </tr>\n  </thead>\n  <tbody>\n    <tr>\n      <th>5</th>\n      <td>CitiAlert.India@citicorp.com</td>\n      <td>[ghoshm21@gmail.com]</td>\n      <td>Sun, 13 Mar 2011 08:10:24 +0530 (GMT+05:30)</td>\n      <td>CITIBANK BILL PAY REGISTRATION</td>\n      <td>Sun, 13 Mar 2011 08:10:24 +0530</td>\n      <td>2011-03-13 02:40:24+00:00</td>\n      <td>2011-03-13 08:10:24+05:30</td>\n      <td>2011-03-13</td>\n      <td>08:10:24</td>\n    </tr>\n    <tr>\n      <th>3424</th>\n      <td>CitiAlert.India@citicorp.com</td>\n      <td>[ghoshm21@gmail.com]</td>\n      <td>Sun, 13 Mar 2011 08:10:24 +0530 (GMT+05:30)</td>\n      <td>CITIBANK BILL PAY REGISTRATION</td>\n      <td>Sun, 13 Mar 2011 08:10:24 +0530</td>\n      <td>2011-03-13 02:40:24+00:00</td>\n      <td>2011-03-13 08:10:24+05:30</td>\n      <td>2011-03-13</td>\n      <td>08:10:24</td>\n    </tr>\n    <tr>\n      <th>46156</th>\n      <td>CitiAlert.India@citicorp.com</td>\n      <td>[ghoshm21@gmail.com]</td>\n      <td>Sun, 13 Mar 2011 08:10:24 +0530 (GMT+05:30)</td>\n      <td>CITIBANK BILL PAY REGISTRATION</td>\n      <td>Sun, 13 Mar 2011 08:10:24 +0530</td>\n      <td>2011-03-13 02:40:24+00:00</td>\n      <td>2011-03-13 08:10:24+05:30</td>\n      <td>2011-03-13</td>\n      <td>08:10:24</td>\n    </tr>\n    <tr>\n      <th>92447</th>\n      <td>CitiAlert.India@citicorp.com</td>\n      <td>[ghoshm21@gmail.com]</td>\n      <td>Sun, 13 Mar 2011 08:10:24 +0530 (GMT+05:30)</td>\n      <td>CITIBANK BILL PAY REGISTRATION</td>\n      <td>Sun, 13 Mar 2011 08:10:24 +0530</td>\n      <td>2011-03-13 02:40:24+00:00</td>\n      <td>2011-03-13 08:10:24+05:30</td>\n      <td>2011-03-13</td>\n      <td>08:10:24</td>\n    </tr>\n  </tbody>\n</table>\n</div>"
     },
     "metadata": {},
     "execution_count": 226
    }
   ],
   "source": [
    "# filter (GMT+05:30)\n",
    "email_data[(email_data.Date.str.contains(\"Sun, 13 Mar 2011 08:10:24\"))]\n"
   ]
  },
  {
   "cell_type": "code",
   "execution_count": 227,
   "metadata": {},
   "outputs": [
    {
     "output_type": "execute_result",
     "data": {
      "text/plain": [
       "                                From                    To  \\\n",
       "55105   CitiAlert.India@citicorp.com  [ghoshm21@gmail.com]   \n",
       "102010  CitiAlert.India@citicorp.com  [ghoshm21@gmail.com]   \n",
       "\n",
       "                                               Date  \\\n",
       "55105   Mon, 18 Jan 2016 20:52:58 +0530 (GMT+05:30)   \n",
       "102010  Mon, 18 Jan 2016 20:52:58 +0530 (GMT+05:30)   \n",
       "\n",
       "                                                  Subject  \\\n",
       "55105   CitiAlert: Confirmation of transaction on your...   \n",
       "102010  CitiAlert: Confirmation of transaction on your...   \n",
       "\n",
       "                                Date_new              Datetime_utc  \\\n",
       "55105   Mon, 18 Jan 2016 20:52:58 +0530  2016-01-18 15:22:58+00:00   \n",
       "102010  Mon, 18 Jan 2016 20:52:58 +0530  2016-01-18 15:22:58+00:00   \n",
       "\n",
       "                    datetime_ist   only_Date only_time  \n",
       "55105  2016-01-18 20:52:58+05:30  2016-01-18  20:52:58  \n",
       "102010 2016-01-18 20:52:58+05:30  2016-01-18  20:52:58  "
      ],
      "text/html": "<div>\n<style scoped>\n    .dataframe tbody tr th:only-of-type {\n        vertical-align: middle;\n    }\n\n    .dataframe tbody tr th {\n        vertical-align: top;\n    }\n\n    .dataframe thead th {\n        text-align: right;\n    }\n</style>\n<table border=\"1\" class=\"dataframe\">\n  <thead>\n    <tr style=\"text-align: right;\">\n      <th></th>\n      <th>From</th>\n      <th>To</th>\n      <th>Date</th>\n      <th>Subject</th>\n      <th>Date_new</th>\n      <th>Datetime_utc</th>\n      <th>datetime_ist</th>\n      <th>only_Date</th>\n      <th>only_time</th>\n    </tr>\n  </thead>\n  <tbody>\n    <tr>\n      <th>55105</th>\n      <td>CitiAlert.India@citicorp.com</td>\n      <td>[ghoshm21@gmail.com]</td>\n      <td>Mon, 18 Jan 2016 20:52:58 +0530 (GMT+05:30)</td>\n      <td>CitiAlert: Confirmation of transaction on your...</td>\n      <td>Mon, 18 Jan 2016 20:52:58 +0530</td>\n      <td>2016-01-18 15:22:58+00:00</td>\n      <td>2016-01-18 20:52:58+05:30</td>\n      <td>2016-01-18</td>\n      <td>20:52:58</td>\n    </tr>\n    <tr>\n      <th>102010</th>\n      <td>CitiAlert.India@citicorp.com</td>\n      <td>[ghoshm21@gmail.com]</td>\n      <td>Mon, 18 Jan 2016 20:52:58 +0530 (GMT+05:30)</td>\n      <td>CitiAlert: Confirmation of transaction on your...</td>\n      <td>Mon, 18 Jan 2016 20:52:58 +0530</td>\n      <td>2016-01-18 15:22:58+00:00</td>\n      <td>2016-01-18 20:52:58+05:30</td>\n      <td>2016-01-18</td>\n      <td>20:52:58</td>\n    </tr>\n  </tbody>\n</table>\n</div>"
     },
     "metadata": {},
     "execution_count": 227
    }
   ],
   "source": [
    "email_data[(email_data.Date.str.contains(\"Mon, 18 Jan 2016 20:52:58\"))]"
   ]
  },
  {
   "cell_type": "code",
   "execution_count": 232,
   "metadata": {},
   "outputs": [
    {
     "output_type": "execute_result",
     "data": {
      "text/plain": [
       "                       From                    To  \\\n",
       "1309   marketing@toshiba.eu  [ghoshm21@gmail.com]   \n",
       "43308  marketing@toshiba.eu  [ghoshm21@gmail.com]   \n",
       "\n",
       "                                            Date                      Subject  \\\n",
       "1309   Monday, 3 March 2008 17:54:18 o'clock GMT  Mobility Without Boundaries   \n",
       "43308  Monday, 3 March 2008 17:54:18 o'clock GMT  Mobility Without Boundaries   \n",
       "\n",
       "                                Date_new              Datetime_utc  \\\n",
       "1309   Monday, 3 March 2008 17:54:18 GMT 2008-03-03 17:54:18+00:00   \n",
       "43308  Monday, 3 March 2008 17:54:18 GMT 2008-03-03 17:54:18+00:00   \n",
       "\n",
       "                   datetime_ist   only_Date only_time  \n",
       "1309  2008-03-03 23:24:18+05:30  2008-03-03  23:24:18  \n",
       "43308 2008-03-03 23:24:18+05:30  2008-03-03  23:24:18  "
      ],
      "text/html": "<div>\n<style scoped>\n    .dataframe tbody tr th:only-of-type {\n        vertical-align: middle;\n    }\n\n    .dataframe tbody tr th {\n        vertical-align: top;\n    }\n\n    .dataframe thead th {\n        text-align: right;\n    }\n</style>\n<table border=\"1\" class=\"dataframe\">\n  <thead>\n    <tr style=\"text-align: right;\">\n      <th></th>\n      <th>From</th>\n      <th>To</th>\n      <th>Date</th>\n      <th>Subject</th>\n      <th>Date_new</th>\n      <th>Datetime_utc</th>\n      <th>datetime_ist</th>\n      <th>only_Date</th>\n      <th>only_time</th>\n    </tr>\n  </thead>\n  <tbody>\n    <tr>\n      <th>1309</th>\n      <td>marketing@toshiba.eu</td>\n      <td>[ghoshm21@gmail.com]</td>\n      <td>Monday, 3 March 2008 17:54:18 o'clock GMT</td>\n      <td>Mobility Without Boundaries</td>\n      <td>Monday, 3 March 2008 17:54:18 GMT</td>\n      <td>2008-03-03 17:54:18+00:00</td>\n      <td>2008-03-03 23:24:18+05:30</td>\n      <td>2008-03-03</td>\n      <td>23:24:18</td>\n    </tr>\n    <tr>\n      <th>43308</th>\n      <td>marketing@toshiba.eu</td>\n      <td>[ghoshm21@gmail.com]</td>\n      <td>Monday, 3 March 2008 17:54:18 o'clock GMT</td>\n      <td>Mobility Without Boundaries</td>\n      <td>Monday, 3 March 2008 17:54:18 GMT</td>\n      <td>2008-03-03 17:54:18+00:00</td>\n      <td>2008-03-03 23:24:18+05:30</td>\n      <td>2008-03-03</td>\n      <td>23:24:18</td>\n    </tr>\n  </tbody>\n</table>\n</div>"
     },
     "metadata": {},
     "execution_count": 232
    }
   ],
   "source": [
    "email_data[(email_data.Date.str.contains(\"(o'clock GMT.*)\"))]"
   ]
  },
  {
   "cell_type": "code",
   "execution_count": 208,
   "metadata": {},
   "outputs": [
    {
     "output_type": "execute_result",
     "data": {
      "text/plain": [
       "                           From                    To  \\\n",
       "0          admin@anandrathi.com  [GHOSHM21@GMAIL.COM]   \n",
       "3      care.karnataka@airtel.in  [GHOSHM21@GMAIL.COM]   \n",
       "4      care.karnataka@airtel.in  [GHOSHM21@GMAIL.COM]   \n",
       "814        admin@anandrathi.com  [GHOSHM21@GMAIL.COM]   \n",
       "3378   care.karnataka@airtel.in  [GHOSHM21@GMAIL.COM]   \n",
       "3379   care.karnataka@airtel.in  [GHOSHM21@GMAIL.COM]   \n",
       "42746      admin@anandrathi.com  [GHOSHM21@GMAIL.COM]   \n",
       "46101  care.karnataka@airtel.in  [GHOSHM21@GMAIL.COM]   \n",
       "46102  care.karnataka@airtel.in  [GHOSHM21@GMAIL.COM]   \n",
       "92425  care.karnataka@airtel.in  [GHOSHM21@GMAIL.COM]   \n",
       "92426  care.karnataka@airtel.in  [GHOSHM21@GMAIL.COM]   \n",
       "\n",
       "                                  Date                  Subject  \n",
       "0         Fri Sep 14 13:44:44 2007 GMT  User Successfully Added  \n",
       "3      Tue, 15 Feb 2011 16:03:04 +0530       DSL Welcome Letter  \n",
       "4      Tue, 15 Feb 2011 15:59:35 +0530       DSL Welcome Letter  \n",
       "814       Fri Sep 14 13:44:44 2007 GMT  User Successfully Added  \n",
       "3378   Tue, 15 Feb 2011 15:59:35 +0530       DSL Welcome Letter  \n",
       "3379   Tue, 15 Feb 2011 16:03:04 +0530       DSL Welcome Letter  \n",
       "42746     Fri Sep 14 13:44:44 2007 GMT  User Successfully Added  \n",
       "46101  Tue, 15 Feb 2011 15:59:35 +0530       DSL Welcome Letter  \n",
       "46102  Tue, 15 Feb 2011 16:03:04 +0530       DSL Welcome Letter  \n",
       "92425  Tue, 15 Feb 2011 15:59:35 +0530       DSL Welcome Letter  \n",
       "92426  Tue, 15 Feb 2011 16:03:04 +0530       DSL Welcome Letter  "
      ],
      "text/html": "<div>\n<style scoped>\n    .dataframe tbody tr th:only-of-type {\n        vertical-align: middle;\n    }\n\n    .dataframe tbody tr th {\n        vertical-align: top;\n    }\n\n    .dataframe thead th {\n        text-align: right;\n    }\n</style>\n<table border=\"1\" class=\"dataframe\">\n  <thead>\n    <tr style=\"text-align: right;\">\n      <th></th>\n      <th>From</th>\n      <th>To</th>\n      <th>Date</th>\n      <th>Subject</th>\n    </tr>\n  </thead>\n  <tbody>\n    <tr>\n      <th>0</th>\n      <td>admin@anandrathi.com</td>\n      <td>[GHOSHM21@GMAIL.COM]</td>\n      <td>Fri Sep 14 13:44:44 2007 GMT</td>\n      <td>User Successfully Added</td>\n    </tr>\n    <tr>\n      <th>3</th>\n      <td>care.karnataka@airtel.in</td>\n      <td>[GHOSHM21@GMAIL.COM]</td>\n      <td>Tue, 15 Feb 2011 16:03:04 +0530</td>\n      <td>DSL Welcome Letter</td>\n    </tr>\n    <tr>\n      <th>4</th>\n      <td>care.karnataka@airtel.in</td>\n      <td>[GHOSHM21@GMAIL.COM]</td>\n      <td>Tue, 15 Feb 2011 15:59:35 +0530</td>\n      <td>DSL Welcome Letter</td>\n    </tr>\n    <tr>\n      <th>814</th>\n      <td>admin@anandrathi.com</td>\n      <td>[GHOSHM21@GMAIL.COM]</td>\n      <td>Fri Sep 14 13:44:44 2007 GMT</td>\n      <td>User Successfully Added</td>\n    </tr>\n    <tr>\n      <th>3378</th>\n      <td>care.karnataka@airtel.in</td>\n      <td>[GHOSHM21@GMAIL.COM]</td>\n      <td>Tue, 15 Feb 2011 15:59:35 +0530</td>\n      <td>DSL Welcome Letter</td>\n    </tr>\n    <tr>\n      <th>3379</th>\n      <td>care.karnataka@airtel.in</td>\n      <td>[GHOSHM21@GMAIL.COM]</td>\n      <td>Tue, 15 Feb 2011 16:03:04 +0530</td>\n      <td>DSL Welcome Letter</td>\n    </tr>\n    <tr>\n      <th>42746</th>\n      <td>admin@anandrathi.com</td>\n      <td>[GHOSHM21@GMAIL.COM]</td>\n      <td>Fri Sep 14 13:44:44 2007 GMT</td>\n      <td>User Successfully Added</td>\n    </tr>\n    <tr>\n      <th>46101</th>\n      <td>care.karnataka@airtel.in</td>\n      <td>[GHOSHM21@GMAIL.COM]</td>\n      <td>Tue, 15 Feb 2011 15:59:35 +0530</td>\n      <td>DSL Welcome Letter</td>\n    </tr>\n    <tr>\n      <th>46102</th>\n      <td>care.karnataka@airtel.in</td>\n      <td>[GHOSHM21@GMAIL.COM]</td>\n      <td>Tue, 15 Feb 2011 16:03:04 +0530</td>\n      <td>DSL Welcome Letter</td>\n    </tr>\n    <tr>\n      <th>92425</th>\n      <td>care.karnataka@airtel.in</td>\n      <td>[GHOSHM21@GMAIL.COM]</td>\n      <td>Tue, 15 Feb 2011 15:59:35 +0530</td>\n      <td>DSL Welcome Letter</td>\n    </tr>\n    <tr>\n      <th>92426</th>\n      <td>care.karnataka@airtel.in</td>\n      <td>[GHOSHM21@GMAIL.COM]</td>\n      <td>Tue, 15 Feb 2011 16:03:04 +0530</td>\n      <td>DSL Welcome Letter</td>\n    </tr>\n  </tbody>\n</table>\n</div>"
     },
     "metadata": {},
     "execution_count": 208
    }
   ],
   "source": [
    "# test = email_data[(email_data.Subject == 'User Successfully Added')]\n",
    "test = email_data[(email_data.Subject == 'DSL Welcome Letter') | (email_data.Subject == 'User Successfully Added') | (email_data.Date.str.contains(\"\\(GMT\\+05:30\\)\"))]\n",
    "test"
   ]
  },
  {
   "cell_type": "code",
   "execution_count": 113,
   "metadata": {},
   "outputs": [
    {
     "output_type": "execute_result",
     "data": {
      "text/plain": [
       "                                From                    To  \\\n",
       "0               admin@anandrathi.com  [GHOSHM21@GMAIL.COM]   \n",
       "3           care.karnataka@airtel.in  [GHOSHM21@GMAIL.COM]   \n",
       "4           care.karnataka@airtel.in  [GHOSHM21@GMAIL.COM]   \n",
       "5       CitiAlert.India@citicorp.com  [ghoshm21@gmail.com]   \n",
       "7       CitiAlert.India@citicorp.com  [ghoshm21@gmail.com]   \n",
       "...                              ...                   ...   \n",
       "102006  CitiAlert.India@citicorp.com  [ghoshm21@gmail.com]   \n",
       "102007  citialert.india@citicorp.com  [ghoshm21@gmail.com]   \n",
       "102008  citialert.india@citicorp.com  [ghoshm21@gmail.com]   \n",
       "102010  CitiAlert.India@citicorp.com  [ghoshm21@gmail.com]   \n",
       "102014  CitiAlert.India@citicorp.com  [ghoshm21@gmail.com]   \n",
       "\n",
       "                                    Date  \\\n",
       "0           Fri Sep 14 13:44:44 2007 GMT   \n",
       "3        Tue, 15 Feb 2011 16:03:04 +0530   \n",
       "4        Tue, 15 Feb 2011 15:59:35 +0530   \n",
       "5       Sun, 13 Mar 2011 08:10:24 +0530    \n",
       "7       Fri, 22 Apr 2011 03:41:39 +0530    \n",
       "...                                  ...   \n",
       "102006  Sun, 13 Mar 2011 08:06:24 +0530    \n",
       "102007  Fri, 13 Jul 2012 20:58:02 +0530    \n",
       "102008  Fri, 13 Jul 2012 20:03:38 +0530    \n",
       "102010  Mon, 18 Jan 2016 20:52:58 +0530    \n",
       "102014  Mon, 18 Jan 2016 20:03:16 +0530    \n",
       "\n",
       "                                                  Subject  \\\n",
       "0                                 User Successfully Added   \n",
       "3                                      DSL Welcome Letter   \n",
       "4                                      DSL Welcome Letter   \n",
       "5                          CITIBANK BILL PAY REGISTRATION   \n",
       "7                                       CITIBANK BILL PAY   \n",
       "...                                                   ...   \n",
       "102006                               Bill Payment details   \n",
       "102007                                Citi Purchase Alert   \n",
       "102008                                Citi Purchase Alert   \n",
       "102010  CitiAlert: Confirmation of transaction on your...   \n",
       "102014  CitiAlert: Confirmation of transaction on your...   \n",
       "\n",
       "                    Datetime_utc              datetime_ist   only_Date  \\\n",
       "0      2007-09-14 13:44:44+00:00 2007-09-14 19:14:44+05:30  2007-09-14   \n",
       "3      2011-02-15 10:33:04+00:00 2011-02-15 16:03:04+05:30  2011-02-15   \n",
       "4      2011-02-15 10:29:35+00:00 2011-02-15 15:59:35+05:30  2011-02-15   \n",
       "5      2011-03-13 02:40:24+00:00 2011-03-13 08:10:24+05:30  2011-03-13   \n",
       "7      2011-04-21 22:11:39+00:00 2011-04-22 03:41:39+05:30  2011-04-22   \n",
       "...                          ...                       ...         ...   \n",
       "102006 2011-03-13 02:36:24+00:00 2011-03-13 08:06:24+05:30  2011-03-13   \n",
       "102007 2012-07-13 15:28:02+00:00 2012-07-13 20:58:02+05:30  2012-07-13   \n",
       "102008 2012-07-13 14:33:38+00:00 2012-07-13 20:03:38+05:30  2012-07-13   \n",
       "102010 2016-01-18 15:22:58+00:00 2016-01-18 20:52:58+05:30  2016-01-18   \n",
       "102014 2016-01-18 14:33:16+00:00 2016-01-18 20:03:16+05:30  2016-01-18   \n",
       "\n",
       "       only_time  \n",
       "0       19:14:44  \n",
       "3       16:03:04  \n",
       "4       15:59:35  \n",
       "5       08:10:24  \n",
       "7       03:41:39  \n",
       "...          ...  \n",
       "102006  08:06:24  \n",
       "102007  20:58:02  \n",
       "102008  20:03:38  \n",
       "102010  20:52:58  \n",
       "102014  20:03:16  \n",
       "\n",
       "[8620 rows x 8 columns]"
      ],
      "text/html": "<div>\n<style scoped>\n    .dataframe tbody tr th:only-of-type {\n        vertical-align: middle;\n    }\n\n    .dataframe tbody tr th {\n        vertical-align: top;\n    }\n\n    .dataframe thead th {\n        text-align: right;\n    }\n</style>\n<table border=\"1\" class=\"dataframe\">\n  <thead>\n    <tr style=\"text-align: right;\">\n      <th></th>\n      <th>From</th>\n      <th>To</th>\n      <th>Date</th>\n      <th>Subject</th>\n      <th>Datetime_utc</th>\n      <th>datetime_ist</th>\n      <th>only_Date</th>\n      <th>only_time</th>\n    </tr>\n  </thead>\n  <tbody>\n    <tr>\n      <th>0</th>\n      <td>admin@anandrathi.com</td>\n      <td>[GHOSHM21@GMAIL.COM]</td>\n      <td>Fri Sep 14 13:44:44 2007 GMT</td>\n      <td>User Successfully Added</td>\n      <td>2007-09-14 13:44:44+00:00</td>\n      <td>2007-09-14 19:14:44+05:30</td>\n      <td>2007-09-14</td>\n      <td>19:14:44</td>\n    </tr>\n    <tr>\n      <th>3</th>\n      <td>care.karnataka@airtel.in</td>\n      <td>[GHOSHM21@GMAIL.COM]</td>\n      <td>Tue, 15 Feb 2011 16:03:04 +0530</td>\n      <td>DSL Welcome Letter</td>\n      <td>2011-02-15 10:33:04+00:00</td>\n      <td>2011-02-15 16:03:04+05:30</td>\n      <td>2011-02-15</td>\n      <td>16:03:04</td>\n    </tr>\n    <tr>\n      <th>4</th>\n      <td>care.karnataka@airtel.in</td>\n      <td>[GHOSHM21@GMAIL.COM]</td>\n      <td>Tue, 15 Feb 2011 15:59:35 +0530</td>\n      <td>DSL Welcome Letter</td>\n      <td>2011-02-15 10:29:35+00:00</td>\n      <td>2011-02-15 15:59:35+05:30</td>\n      <td>2011-02-15</td>\n      <td>15:59:35</td>\n    </tr>\n    <tr>\n      <th>5</th>\n      <td>CitiAlert.India@citicorp.com</td>\n      <td>[ghoshm21@gmail.com]</td>\n      <td>Sun, 13 Mar 2011 08:10:24 +0530</td>\n      <td>CITIBANK BILL PAY REGISTRATION</td>\n      <td>2011-03-13 02:40:24+00:00</td>\n      <td>2011-03-13 08:10:24+05:30</td>\n      <td>2011-03-13</td>\n      <td>08:10:24</td>\n    </tr>\n    <tr>\n      <th>7</th>\n      <td>CitiAlert.India@citicorp.com</td>\n      <td>[ghoshm21@gmail.com]</td>\n      <td>Fri, 22 Apr 2011 03:41:39 +0530</td>\n      <td>CITIBANK BILL PAY</td>\n      <td>2011-04-21 22:11:39+00:00</td>\n      <td>2011-04-22 03:41:39+05:30</td>\n      <td>2011-04-22</td>\n      <td>03:41:39</td>\n    </tr>\n    <tr>\n      <th>...</th>\n      <td>...</td>\n      <td>...</td>\n      <td>...</td>\n      <td>...</td>\n      <td>...</td>\n      <td>...</td>\n      <td>...</td>\n      <td>...</td>\n    </tr>\n    <tr>\n      <th>102006</th>\n      <td>CitiAlert.India@citicorp.com</td>\n      <td>[ghoshm21@gmail.com]</td>\n      <td>Sun, 13 Mar 2011 08:06:24 +0530</td>\n      <td>Bill Payment details</td>\n      <td>2011-03-13 02:36:24+00:00</td>\n      <td>2011-03-13 08:06:24+05:30</td>\n      <td>2011-03-13</td>\n      <td>08:06:24</td>\n    </tr>\n    <tr>\n      <th>102007</th>\n      <td>citialert.india@citicorp.com</td>\n      <td>[ghoshm21@gmail.com]</td>\n      <td>Fri, 13 Jul 2012 20:58:02 +0530</td>\n      <td>Citi Purchase Alert</td>\n      <td>2012-07-13 15:28:02+00:00</td>\n      <td>2012-07-13 20:58:02+05:30</td>\n      <td>2012-07-13</td>\n      <td>20:58:02</td>\n    </tr>\n    <tr>\n      <th>102008</th>\n      <td>citialert.india@citicorp.com</td>\n      <td>[ghoshm21@gmail.com]</td>\n      <td>Fri, 13 Jul 2012 20:03:38 +0530</td>\n      <td>Citi Purchase Alert</td>\n      <td>2012-07-13 14:33:38+00:00</td>\n      <td>2012-07-13 20:03:38+05:30</td>\n      <td>2012-07-13</td>\n      <td>20:03:38</td>\n    </tr>\n    <tr>\n      <th>102010</th>\n      <td>CitiAlert.India@citicorp.com</td>\n      <td>[ghoshm21@gmail.com]</td>\n      <td>Mon, 18 Jan 2016 20:52:58 +0530</td>\n      <td>CitiAlert: Confirmation of transaction on your...</td>\n      <td>2016-01-18 15:22:58+00:00</td>\n      <td>2016-01-18 20:52:58+05:30</td>\n      <td>2016-01-18</td>\n      <td>20:52:58</td>\n    </tr>\n    <tr>\n      <th>102014</th>\n      <td>CitiAlert.India@citicorp.com</td>\n      <td>[ghoshm21@gmail.com]</td>\n      <td>Mon, 18 Jan 2016 20:03:16 +0530</td>\n      <td>CitiAlert: Confirmation of transaction on your...</td>\n      <td>2016-01-18 14:33:16+00:00</td>\n      <td>2016-01-18 20:03:16+05:30</td>\n      <td>2016-01-18</td>\n      <td>20:03:16</td>\n    </tr>\n  </tbody>\n</table>\n<p>8620 rows × 8 columns</p>\n</div>"
     },
     "metadata": {},
     "execution_count": 113
    }
   ],
   "source": [
    "# from datetime import datetime, timedelta\n",
    "# remove the string ' (GMT+05:30)'\n",
    "test['Date'] = test['Date'].str.replace(\"\\(GMT\\+05:30\\)\", \"\")\n",
    "test['Datetime_utc'] = pd.to_datetime(test.Date, utc=True)\n",
    "test['datetime_ist'] = test.Datetime_utc.dt.tz_convert('Asia/Kolkata')\n",
    "test['only_Date'] = test['datetime_ist'].dt.strftime('%Y-%m-%d')\n",
    "test['only_time'] = test['datetime_ist'].dt.strftime('%H:%M:%S')\n",
    "test"
   ]
  },
  {
   "cell_type": "code",
   "execution_count": 30,
   "metadata": {},
   "outputs": [
    {
     "output_type": "execute_result",
     "data": {
      "text/plain": [
       "Timestamp('2011-02-15 16:03:04+0530', tz='pytz.FixedOffset(330)')"
      ]
     },
     "metadata": {},
     "execution_count": 30
    }
   ],
   "source": [
    "import pandas as pd\n",
    "# date='Fri Sep 14 13:44:44 2007 GMT'\n",
    "date = 'Tue, 15 Feb 2011 16:03:04 +0530'\n",
    "# date_time=pd.to_datetime(date, format='%a %b %d %H:%M:%S %Y %Z')\n",
    "date_time=pd.to_datetime(date, format='%a, %d %b  %Y %H:%M:%S %z')\n",
    "date_time"
   ]
  },
  {
   "cell_type": "code",
   "execution_count": 38,
   "metadata": {},
   "outputs": [
    {
     "output_type": "execute_result",
     "data": {
      "text/plain": [
       "                           From                    To  \\\n",
       "3      care.karnataka@airtel.in  [GHOSHM21@GMAIL.COM]   \n",
       "4      care.karnataka@airtel.in  [GHOSHM21@GMAIL.COM]   \n",
       "3378   care.karnataka@airtel.in  [GHOSHM21@GMAIL.COM]   \n",
       "3379   care.karnataka@airtel.in  [GHOSHM21@GMAIL.COM]   \n",
       "46101  care.karnataka@airtel.in  [GHOSHM21@GMAIL.COM]   \n",
       "46102  care.karnataka@airtel.in  [GHOSHM21@GMAIL.COM]   \n",
       "92425  care.karnataka@airtel.in  [GHOSHM21@GMAIL.COM]   \n",
       "92426  care.karnataka@airtel.in  [GHOSHM21@GMAIL.COM]   \n",
       "\n",
       "                                  Date             Subject  \\\n",
       "3      Tue, 15 Feb 2011 16:03:04 +0530  DSL Welcome Letter   \n",
       "4      Tue, 15 Feb 2011 15:59:35 +0530  DSL Welcome Letter   \n",
       "3378   Tue, 15 Feb 2011 15:59:35 +0530  DSL Welcome Letter   \n",
       "3379   Tue, 15 Feb 2011 16:03:04 +0530  DSL Welcome Letter   \n",
       "46101  Tue, 15 Feb 2011 15:59:35 +0530  DSL Welcome Letter   \n",
       "46102  Tue, 15 Feb 2011 16:03:04 +0530  DSL Welcome Letter   \n",
       "92425  Tue, 15 Feb 2011 15:59:35 +0530  DSL Welcome Letter   \n",
       "92426  Tue, 15 Feb 2011 16:03:04 +0530  DSL Welcome Letter   \n",
       "\n",
       "                       new_date  \n",
       "3     2011-02-15 16:03:04+05:30  \n",
       "4     2011-02-15 15:59:35+05:30  \n",
       "3378  2011-02-15 15:59:35+05:30  \n",
       "3379  2011-02-15 16:03:04+05:30  \n",
       "46101 2011-02-15 15:59:35+05:30  \n",
       "46102 2011-02-15 16:03:04+05:30  \n",
       "92425 2011-02-15 15:59:35+05:30  \n",
       "92426 2011-02-15 16:03:04+05:30  "
      ],
      "text/html": "<div>\n<style scoped>\n    .dataframe tbody tr th:only-of-type {\n        vertical-align: middle;\n    }\n\n    .dataframe tbody tr th {\n        vertical-align: top;\n    }\n\n    .dataframe thead th {\n        text-align: right;\n    }\n</style>\n<table border=\"1\" class=\"dataframe\">\n  <thead>\n    <tr style=\"text-align: right;\">\n      <th></th>\n      <th>From</th>\n      <th>To</th>\n      <th>Date</th>\n      <th>Subject</th>\n      <th>new_date</th>\n    </tr>\n  </thead>\n  <tbody>\n    <tr>\n      <th>3</th>\n      <td>care.karnataka@airtel.in</td>\n      <td>[GHOSHM21@GMAIL.COM]</td>\n      <td>Tue, 15 Feb 2011 16:03:04 +0530</td>\n      <td>DSL Welcome Letter</td>\n      <td>2011-02-15 16:03:04+05:30</td>\n    </tr>\n    <tr>\n      <th>4</th>\n      <td>care.karnataka@airtel.in</td>\n      <td>[GHOSHM21@GMAIL.COM]</td>\n      <td>Tue, 15 Feb 2011 15:59:35 +0530</td>\n      <td>DSL Welcome Letter</td>\n      <td>2011-02-15 15:59:35+05:30</td>\n    </tr>\n    <tr>\n      <th>3378</th>\n      <td>care.karnataka@airtel.in</td>\n      <td>[GHOSHM21@GMAIL.COM]</td>\n      <td>Tue, 15 Feb 2011 15:59:35 +0530</td>\n      <td>DSL Welcome Letter</td>\n      <td>2011-02-15 15:59:35+05:30</td>\n    </tr>\n    <tr>\n      <th>3379</th>\n      <td>care.karnataka@airtel.in</td>\n      <td>[GHOSHM21@GMAIL.COM]</td>\n      <td>Tue, 15 Feb 2011 16:03:04 +0530</td>\n      <td>DSL Welcome Letter</td>\n      <td>2011-02-15 16:03:04+05:30</td>\n    </tr>\n    <tr>\n      <th>46101</th>\n      <td>care.karnataka@airtel.in</td>\n      <td>[GHOSHM21@GMAIL.COM]</td>\n      <td>Tue, 15 Feb 2011 15:59:35 +0530</td>\n      <td>DSL Welcome Letter</td>\n      <td>2011-02-15 15:59:35+05:30</td>\n    </tr>\n    <tr>\n      <th>46102</th>\n      <td>care.karnataka@airtel.in</td>\n      <td>[GHOSHM21@GMAIL.COM]</td>\n      <td>Tue, 15 Feb 2011 16:03:04 +0530</td>\n      <td>DSL Welcome Letter</td>\n      <td>2011-02-15 16:03:04+05:30</td>\n    </tr>\n    <tr>\n      <th>92425</th>\n      <td>care.karnataka@airtel.in</td>\n      <td>[GHOSHM21@GMAIL.COM]</td>\n      <td>Tue, 15 Feb 2011 15:59:35 +0530</td>\n      <td>DSL Welcome Letter</td>\n      <td>2011-02-15 15:59:35+05:30</td>\n    </tr>\n    <tr>\n      <th>92426</th>\n      <td>care.karnataka@airtel.in</td>\n      <td>[GHOSHM21@GMAIL.COM]</td>\n      <td>Tue, 15 Feb 2011 16:03:04 +0530</td>\n      <td>DSL Welcome Letter</td>\n      <td>2011-02-15 16:03:04+05:30</td>\n    </tr>\n  </tbody>\n</table>\n</div>"
     },
     "metadata": {},
     "execution_count": 38
    }
   ],
   "source": [
    "test['new_date'] = pd.to_datetime(test['Date'], format='%a, %d %b  %Y %H:%M:%S %z', errors='ignore')\n",
    "test"
   ]
  },
  {
   "cell_type": "code",
   "execution_count": null,
   "metadata": {},
   "outputs": [],
   "source": []
  }
 ]
}