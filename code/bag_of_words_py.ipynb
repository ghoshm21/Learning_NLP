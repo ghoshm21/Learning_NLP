{
 "metadata": {
  "language_info": {
   "codemirror_mode": {
    "name": "ipython",
    "version": 3
   },
   "file_extension": ".py",
   "mimetype": "text/x-python",
   "name": "python",
   "nbconvert_exporter": "python",
   "pygments_lexer": "ipython3",
   "version": "3.8.5-final"
  },
  "orig_nbformat": 2,
  "kernelspec": {
   "name": "python38564bitnlpd8d34a4971064c91a824973644f122aa",
   "display_name": "Python 3.8.5 64-bit ('nlp')"
  }
 },
 "nbformat": 4,
 "nbformat_minor": 2,
 "cells": [
  {
   "cell_type": "code",
   "execution_count": 29,
   "metadata": {},
   "outputs": [],
   "source": [
    "from sklearn.feature_extraction.text import CountVectorizer"
   ]
  },
  {
   "cell_type": "code",
   "execution_count": 60,
   "metadata": {},
   "outputs": [
    {
     "output_type": "stream",
     "name": "stdout",
     "text": [
      "['Dog bites man.', 'Man bites dog', 'Dog eats meat. i love dog.', 'Man eats food, and not cat', 'friends']\n"
     ]
    }
   ],
   "source": [
    "input_file = \"/home/sandipan/Insync/ghoshm21@gmail.com/Google Drive/personal_project/Learning_NLP/data/input/sample_text.txt\"\n",
    "# read the file\n",
    "f = open(input_file, \"r\")\n",
    "data = f.read()\n",
    "# convert to iterable\n",
    "data = data.split('\\n') \n",
    "print(data)\n"
   ]
  },
  {
   "cell_type": "code",
   "execution_count": 61,
   "metadata": {},
   "outputs": [
    {
     "output_type": "stream",
     "name": "stdout",
     "text": [
      "{'dog': 3, 'bites': 1, 'man': 8, 'eats': 4, 'meat': 9, 'love': 7, 'food': 5, 'and': 0, 'not': 10, 'cat': 2, 'friends': 6}\n"
     ]
    },
    {
     "output_type": "execute_result",
     "data": {
      "text/plain": [
       "[('and', 0),\n",
       " ('bites', 1),\n",
       " ('cat', 2),\n",
       " ('dog', 3),\n",
       " ('eats', 4),\n",
       " ('food', 5),\n",
       " ('friends', 6),\n",
       " ('love', 7),\n",
       " ('man', 8),\n",
       " ('meat', 9),\n",
       " ('not', 10)]"
      ]
     },
     "metadata": {},
     "execution_count": 61
    }
   ],
   "source": [
    "count_vec = CountVectorizer()\n",
    "# get BOW of the data\n",
    "bow_data = count_vec.fit_transform(data)\n",
    "print(count_vec.vocabulary_)\n",
    "# print the sort\n",
    "sorted(count_vec.vocabulary_.items(), key=lambda x: x[1])"
   ]
  },
  {
   "cell_type": "code",
   "execution_count": 63,
   "metadata": {},
   "outputs": [
    {
     "output_type": "stream",
     "name": "stdout",
     "text": [
      "Bow representation for : [[3 0 1 2 0 0 1 0 1 0 1]]\n"
     ]
    }
   ],
   "source": [
    "# print the BOW of a new string, OOV shows as 0\n",
    "temp = count_vec.transform([\"dog and dog are friends and so with man and not with cat\"])\n",
    "print(\"Bow representation for :\", temp.toarray())"
   ]
  },
  {
   "cell_type": "code",
   "execution_count": 64,
   "metadata": {},
   "outputs": [
    {
     "output_type": "stream",
     "name": "stdout",
     "text": [
      "{'dog': 3, 'bites': 1, 'man': 8, 'eats': 4, 'meat': 9, 'love': 7, 'food': 5, 'and': 0, 'not': 10, 'cat': 2, 'friends': 6}\nBow representation : [[1 0 1 1 0 0 1 0 1 0 1]]\n"
     ]
    }
   ],
   "source": [
    "# if you dont need the count of occurrence \n",
    "count_vec = CountVectorizer(binary=True)\n",
    "bow_data = count_vec.fit_transform(data)\n",
    "print(count_vec.vocabulary_)\n",
    "temp = count_vec.transform([\"dog and dog are friends and so with man and not with cat\"])\n",
    "print(\"Bow representation :\", temp.toarray())"
   ]
  },
  {
   "cell_type": "code",
   "execution_count": 65,
   "metadata": {},
   "outputs": [
    {
     "output_type": "stream",
     "name": "stdout",
     "text": [
      "{'dog bites': 3, 'bites man': 2, 'man bites': 9, 'bites dog': 1, 'dog eats': 4, 'eats meat': 6, 'meat love': 11, 'love dog': 8, 'man eats': 10, 'eats food': 5, 'food and': 7, 'and not': 0, 'not cat': 12}\nBow representation : [[1 0 0 0 0 0 0 0 0 0 0 0 0]]\n"
     ]
    }
   ],
   "source": [
    "# try bi-gram\n",
    "count_vec = CountVectorizer(ngram_range=(2,2))\n",
    "bow_data = count_vec.fit_transform(data)\n",
    "print(count_vec.vocabulary_)\n",
    "temp = count_vec.transform([\"dog and dog are friends and so with man and not with cat\"])\n",
    "print(\"Bow representation :\", temp.toarray())"
   ]
  },
  {
   "cell_type": "code",
   "execution_count": null,
   "metadata": {},
   "outputs": [],
   "source": []
  }
 ]
}