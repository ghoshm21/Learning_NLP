{
 "metadata": {
  "language_info": {
   "codemirror_mode": {
    "name": "ipython",
    "version": 3
   },
   "file_extension": ".py",
   "mimetype": "text/x-python",
   "name": "python",
   "nbconvert_exporter": "python",
   "pygments_lexer": "ipython3",
   "version": "3.8.5-final"
  },
  "orig_nbformat": 2,
  "kernelspec": {
   "name": "python38564bitnlpd8d34a4971064c91a824973644f122aa",
   "display_name": "Python 3.8.5 64-bit ('nlp')"
  }
 },
 "nbformat": 4,
 "nbformat_minor": 2,
 "cells": [
  {
   "cell_type": "code",
   "execution_count": 1,
   "metadata": {},
   "outputs": [],
   "source": [
    "from sklearn.feature_extraction.text import CountVectorizer"
   ]
  },
  {
   "cell_type": "code",
   "execution_count": 2,
   "metadata": {},
   "outputs": [
    {
     "output_type": "stream",
     "name": "stdout",
     "text": [
      "['Dog bites man.', 'Man bites dog', 'Dog eats meat. i love dog.', 'Man eats food, and not cat', 'friends']\n"
     ]
    }
   ],
   "source": [
    "input_file = \"/home/sandipan/Insync/ghoshm21@gmail.com/Google Drive/personal_project/Learning_NLP/data/input/sample_text.txt\"\n",
    "# read the file\n",
    "f = open(input_file, \"r\")\n",
    "data = f.read()\n",
    "# convert to iterable\n",
    "data = data.split('\\n') \n",
    "print(data)\n"
   ]
  },
  {
   "cell_type": "code",
   "execution_count": 3,
   "metadata": {},
   "outputs": [
    {
     "output_type": "stream",
     "name": "stdout",
     "text": [
      "{'dog': 3, 'bites': 1, 'man': 8, 'eats': 4, 'meat': 9, 'love': 7, 'food': 5, 'and': 0, 'not': 10, 'cat': 2, 'friends': 6}\n"
     ]
    },
    {
     "output_type": "execute_result",
     "data": {
      "text/plain": [
       "[('and', 0),\n",
       " ('bites', 1),\n",
       " ('cat', 2),\n",
       " ('dog', 3),\n",
       " ('eats', 4),\n",
       " ('food', 5),\n",
       " ('friends', 6),\n",
       " ('love', 7),\n",
       " ('man', 8),\n",
       " ('meat', 9),\n",
       " ('not', 10)]"
      ]
     },
     "metadata": {},
     "execution_count": 3
    }
   ],
   "source": [
    "# apply onehot encoding\n",
    "count_vec = CountVectorizer()\n",
    "# get BOW of the data\n",
    "bow_data = count_vec.fit_transform(data)\n",
    "print(count_vec.vocabulary_)\n",
    "# print the sort\n",
    "sorted(count_vec.vocabulary_.items(), key=lambda x: x[1])"
   ]
  },
  {
   "cell_type": "code",
   "execution_count": 4,
   "metadata": {},
   "outputs": [
    {
     "output_type": "stream",
     "name": "stdout",
     "text": [
      "Bow representation for : [[3 0 1 2 0 0 1 0 1 0 1]]\n"
     ]
    }
   ],
   "source": [
    "# print the BOW of a new string, OOV shows as 0\n",
    "temp = count_vec.transform([\"dog and dog are friends and so with man and not with cat\"])\n",
    "print(\"Bow representation for :\", temp.toarray())"
   ]
  },
  {
   "cell_type": "code",
   "execution_count": 5,
   "metadata": {},
   "outputs": [
    {
     "output_type": "stream",
     "name": "stdout",
     "text": [
      "{'dog': 3, 'bites': 1, 'man': 8, 'eats': 4, 'meat': 9, 'love': 7, 'food': 5, 'and': 0, 'not': 10, 'cat': 2, 'friends': 6}\nBow representation : [[1 0 1 1 0 0 1 0 1 0 1]]\n"
     ]
    }
   ],
   "source": [
    "# if you dont need the count of occurrence \n",
    "count_vec = CountVectorizer(binary=True)\n",
    "bow_data = count_vec.fit_transform(data)\n",
    "print(count_vec.vocabulary_)\n",
    "temp = count_vec.transform([\"dog and dog are friends and so with man and not with cat\"])\n",
    "print(\"Bow representation :\", temp.toarray())"
   ]
  },
  {
   "cell_type": "code",
   "execution_count": 6,
   "metadata": {},
   "outputs": [
    {
     "output_type": "stream",
     "name": "stdout",
     "text": [
      "{'dog bites': 3, 'bites man': 2, 'man bites': 9, 'bites dog': 1, 'dog eats': 4, 'eats meat': 6, 'meat love': 11, 'love dog': 8, 'man eats': 10, 'eats food': 5, 'food and': 7, 'and not': 0, 'not cat': 12}\nBow representation : [[1 0 0 0 0 0 0 0 0 0 0 0 0]]\n"
     ]
    }
   ],
   "source": [
    "# try bi-gram\n",
    "count_vec = CountVectorizer(ngram_range=(2,2))\n",
    "bow_data = count_vec.fit_transform(data)\n",
    "print(count_vec.vocabulary_)\n",
    "temp = count_vec.transform([\"dog and dog are friends and so with man and not with cat\"])\n",
    "print(\"Bow representation :\", temp.toarray())"
   ]
  },
  {
   "cell_type": "code",
   "execution_count": 38,
   "metadata": {},
   "outputs": [
    {
     "output_type": "stream",
     "name": "stdout",
     "text": [
      "['Dog bites man.', 'Man bites dog.', 'Dog eats meat.', 'Man eats food all the time.']\n"
     ]
    },
    {
     "output_type": "execute_result",
     "data": {
      "text/plain": [
       "        all     bites      dog  ...      meat       the      time\n",
       "0  0.000000  0.657829  0.53257  ...  0.000000  0.000000  0.000000\n",
       "1  0.000000  0.657829  0.53257  ...  0.000000  0.000000  0.000000\n",
       "2  0.000000  0.000000  0.44810  ...  0.702035  0.000000  0.000000\n",
       "3  0.445922  0.000000  0.00000  ...  0.000000  0.445922  0.445922\n",
       "\n",
       "[4 rows x 9 columns]"
      ],
      "text/html": "<div>\n<style scoped>\n    .dataframe tbody tr th:only-of-type {\n        vertical-align: middle;\n    }\n\n    .dataframe tbody tr th {\n        vertical-align: top;\n    }\n\n    .dataframe thead th {\n        text-align: right;\n    }\n</style>\n<table border=\"1\" class=\"dataframe\">\n  <thead>\n    <tr style=\"text-align: right;\">\n      <th></th>\n      <th>all</th>\n      <th>bites</th>\n      <th>dog</th>\n      <th>eats</th>\n      <th>food</th>\n      <th>man</th>\n      <th>meat</th>\n      <th>the</th>\n      <th>time</th>\n    </tr>\n  </thead>\n  <tbody>\n    <tr>\n      <th>0</th>\n      <td>0.000000</td>\n      <td>0.657829</td>\n      <td>0.53257</td>\n      <td>0.000000</td>\n      <td>0.000000</td>\n      <td>0.532570</td>\n      <td>0.000000</td>\n      <td>0.000000</td>\n      <td>0.000000</td>\n    </tr>\n    <tr>\n      <th>1</th>\n      <td>0.000000</td>\n      <td>0.657829</td>\n      <td>0.53257</td>\n      <td>0.000000</td>\n      <td>0.000000</td>\n      <td>0.532570</td>\n      <td>0.000000</td>\n      <td>0.000000</td>\n      <td>0.000000</td>\n    </tr>\n    <tr>\n      <th>2</th>\n      <td>0.000000</td>\n      <td>0.000000</td>\n      <td>0.44810</td>\n      <td>0.553492</td>\n      <td>0.000000</td>\n      <td>0.000000</td>\n      <td>0.702035</td>\n      <td>0.000000</td>\n      <td>0.000000</td>\n    </tr>\n    <tr>\n      <th>3</th>\n      <td>0.445922</td>\n      <td>0.000000</td>\n      <td>0.00000</td>\n      <td>0.351570</td>\n      <td>0.445922</td>\n      <td>0.284626</td>\n      <td>0.000000</td>\n      <td>0.445922</td>\n      <td>0.445922</td>\n    </tr>\n  </tbody>\n</table>\n</div>"
     },
     "metadata": {},
     "execution_count": 38
    }
   ],
   "source": [
    "# simple TF IDF\n",
    "import pandas as pd\n",
    "# doc = [\"the cat sat on my face\",\"the dog sat on my bed\"]\n",
    "doc = [\"Dog bites man.\", \"Man bites dog.\", \"Dog eats meat.\", \"Man eats food all the time.\"]\n",
    "print(doc)\n",
    "from sklearn.feature_extraction.text import TfidfVectorizer\n",
    "tf_idf = TfidfVectorizer(use_idf=True)\n",
    "tf_idf_vec = tf_idf.fit_transform(doc)\n",
    "names = tf_idf.get_feature_names()\n",
    "dense = tf_idf_vec.todense()\n",
    "dense_list = dense.tolist()\n",
    "df = pd.DataFrame(dense_list,columns=names)\n",
    "df\n",
    "\n",
    "# print(\"all words in the vocabulary\",names)\n",
    "# print(\"IDF for all words in the vocabulary\",tf_idf.idf_)\n",
    "# print(tf_idf_vec.toarray())\n",
    "\n"
   ]
  },
  {
   "cell_type": "code",
   "execution_count": 17,
   "metadata": {},
   "outputs": [
    {
     "output_type": "stream",
     "name": "stdout",
     "text": [
      "{'dog': 3, 'bites': 1, 'man': 8, 'eats': 4, 'meat': 9, 'love': 7, 'food': 5, 'and': 0, 'not': 10, 'cat': 2, 'friends': 6}\n[('and', 0), ('bites', 1), ('cat', 2), ('dog', 3), ('eats', 4), ('food', 5), ('friends', 6), ('love', 7), ('man', 8), ('meat', 9), ('not', 10)]\n(5, 11)\n"
     ]
    }
   ],
   "source": [
    "# calculate TF/IDF\n",
    "# build vocab\n",
    "count_vec = CountVectorizer()\n",
    "# get BOW of the data\n",
    "bow_data = count_vec.fit_transform(data)\n",
    "print(count_vec.vocabulary_)\n",
    "# print the sort data\n",
    "print(sorted(count_vec.vocabulary_.items(), key=lambda x: x[1]))\n",
    "print(bow_data.shape)"
   ]
  },
  {
   "cell_type": "code",
   "execution_count": 13,
   "metadata": {},
   "outputs": [
    {
     "output_type": "stream",
     "name": "stdout",
     "text": [
      "all words in the vocabulary ['and', 'bites', 'cat', 'dog', 'eats', 'food', 'friends', 'love', 'man', 'meat', 'not']\nIDF for all words in the vocabulary [2.09861229 1.69314718 2.09861229 1.40546511 1.69314718 2.09861229\n 2.09861229 2.09861229 1.40546511 2.09861229 2.09861229]\n"
     ]
    }
   ],
   "source": [
    "# TF/IDF\n",
    "from sklearn.feature_extraction.text import TfidfVectorizer\n",
    "tf_idf = TfidfVectorizer()\n",
    "tf_idf_vec = tf_idf.fit_transform(data)\n",
    "print(\"all words in the vocabulary\",tf_idf.get_feature_names())\n",
    "print(\"IDF for all words in the vocabulary\",tf_idf.idf_)"
   ]
  },
  {
   "cell_type": "code",
   "execution_count": 14,
   "metadata": {},
   "outputs": [
    {
     "output_type": "stream",
     "name": "stdout",
     "text": [
      "all words in the vocabulary ['and', 'bites', 'cat', 'dog', 'eats', 'food', 'friends', 'love', 'man', 'meat', 'not']\nIDF for all words in the vocabulary [2.09861229 1.69314718 2.09861229 1.40546511 1.69314718 2.09861229\n 2.09861229 2.09861229 1.40546511 2.09861229 2.09861229]\n"
     ]
    }
   ],
   "source": [
    "from sklearn.feature_extraction.text import TfidfVectorizer\n",
    "tf_idf = TfidfVectorizer(use_idf=True)\n",
    "tf_idf_vec = tf_idf.fit_transform(data)\n",
    "print(\"all words in the vocabulary\",tf_idf.get_feature_names())\n",
    "print(\"IDF for all words in the vocabulary\",tf_idf.idf_)"
   ]
  },
  {
   "cell_type": "code",
   "execution_count": null,
   "metadata": {},
   "outputs": [],
   "source": []
  },
  {
   "cell_type": "code",
   "execution_count": null,
   "metadata": {},
   "outputs": [],
   "source": []
  }
 ]
}